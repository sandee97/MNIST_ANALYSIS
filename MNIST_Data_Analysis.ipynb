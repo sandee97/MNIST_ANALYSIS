{
  "nbformat": 4,
  "nbformat_minor": 0,
  "metadata": {
    "colab": {
      "name": "MNIST_Data_Analysis.ipynb",
      "provenance": [],
      "collapsed_sections": [
        "eaBfrr9vWdfq",
        "KGM75ZmHnx7H",
        "G3aOUjtJyetF"
      ]
    },
    "kernelspec": {
      "name": "python3",
      "display_name": "Python 3"
    }
  },
  "cells": [
    {
      "cell_type": "markdown",
      "metadata": {
        "id": "3uKjIYJrWZ0E"
      },
      "source": [
        "# **Imports**"
      ]
    },
    {
      "cell_type": "code",
      "metadata": {
        "id": "1DmvlnsiMeYs"
      },
      "source": [
        "from sklearn.datasets import fetch_openml\n",
        "from sklearn.svm import SVC\n",
        "from sklearn.tree import DecisionTreeClassifier,plot_tree\n",
        "from sklearn.ensemble import RandomForestClassifier,VotingClassifier\n",
        "from sklearn.linear_model import LogisticRegression \n",
        "from sklearn.decomposition import PCA\n",
        "from sklearn.model_selection import train_test_split\n",
        "import matplotlib.pyplot as plt\n",
        "import numpy as np"
      ],
      "execution_count": 50,
      "outputs": []
    },
    {
      "cell_type": "markdown",
      "metadata": {
        "id": "eaBfrr9vWdfq"
      },
      "source": [
        "# **Data loading and Analysis**"
      ]
    },
    {
      "cell_type": "code",
      "metadata": {
        "id": "jbfTrowKVR75"
      },
      "source": [
        "dataset=fetch_openml('mnist_784')"
      ],
      "execution_count": 51,
      "outputs": []
    },
    {
      "cell_type": "code",
      "metadata": {
        "id": "qP0d3fs5Q74E"
      },
      "source": [
        "data=dataset.data\n",
        "target=dataset.target"
      ],
      "execution_count": 52,
      "outputs": []
    },
    {
      "cell_type": "code",
      "metadata": {
        "id": "z63f5QIFVszh",
        "outputId": "75c07001-234b-4229-e63e-8c8581cdd648",
        "colab": {
          "base_uri": "https://localhost:8080/"
        }
      },
      "source": [
        "dataset.keys()"
      ],
      "execution_count": 53,
      "outputs": [
        {
          "output_type": "execute_result",
          "data": {
            "text/plain": [
              "dict_keys(['data', 'target', 'frame', 'feature_names', 'target_names', 'DESCR', 'details', 'categories', 'url'])"
            ]
          },
          "metadata": {
            "tags": []
          },
          "execution_count": 53
        }
      ]
    },
    {
      "cell_type": "code",
      "metadata": {
        "id": "8S7MDmeRVyH-",
        "outputId": "a56edfa6-01cb-4fc7-deaa-6b752f45ec68",
        "colab": {
          "base_uri": "https://localhost:8080/"
        }
      },
      "source": [
        "data.shape"
      ],
      "execution_count": 54,
      "outputs": [
        {
          "output_type": "execute_result",
          "data": {
            "text/plain": [
              "(70000, 784)"
            ]
          },
          "metadata": {
            "tags": []
          },
          "execution_count": 54
        }
      ]
    },
    {
      "cell_type": "code",
      "metadata": {
        "id": "OTPK0cYZV41C",
        "outputId": "d7842b1c-a251-4a64-ec6d-be641047ac9e",
        "colab": {
          "base_uri": "https://localhost:8080/"
        }
      },
      "source": [
        "np.unique(target).shape"
      ],
      "execution_count": 55,
      "outputs": [
        {
          "output_type": "execute_result",
          "data": {
            "text/plain": [
              "(10,)"
            ]
          },
          "metadata": {
            "tags": []
          },
          "execution_count": 55
        }
      ]
    },
    {
      "cell_type": "markdown",
      "metadata": {
        "id": "KGM75ZmHnx7H"
      },
      "source": [
        "# **Data Processing**"
      ]
    },
    {
      "cell_type": "code",
      "metadata": {
        "id": "R8dCvzq5rK4r",
        "outputId": "1c226864-c42e-4054-d530-bf779430e0dc",
        "colab": {
          "base_uri": "https://localhost:8080/"
        }
      },
      "source": [
        "data.shape"
      ],
      "execution_count": 56,
      "outputs": [
        {
          "output_type": "execute_result",
          "data": {
            "text/plain": [
              "(70000, 784)"
            ]
          },
          "metadata": {
            "tags": []
          },
          "execution_count": 56
        }
      ]
    },
    {
      "cell_type": "code",
      "metadata": {
        "id": "C38rbt-VyUgo"
      },
      "source": [
        "data=data-np.mean(data,axis=0)"
      ],
      "execution_count": 57,
      "outputs": []
    },
    {
      "cell_type": "markdown",
      "metadata": {
        "id": "ovJnPXsAKHGH"
      },
      "source": [
        "- we have to center the data to get accurate results of variance distribution for each class around origin"
      ]
    },
    {
      "cell_type": "markdown",
      "metadata": {
        "id": "G3aOUjtJyetF"
      },
      "source": [
        "# **Splitting Data**"
      ]
    },
    {
      "cell_type": "code",
      "metadata": {
        "id": "z2kmahBnyiJs"
      },
      "source": [
        "x_train,x_test,y_train,y_test=train_test_split(data,target,test_size=0.25,random_state=40)"
      ],
      "execution_count": 58,
      "outputs": []
    },
    {
      "cell_type": "markdown",
      "metadata": {
        "id": "d1GUGJ5NuNhL"
      },
      "source": [
        "# **Dimensionality Reduction**"
      ]
    },
    {
      "cell_type": "code",
      "metadata": {
        "id": "MoDpVEE2qzR-"
      },
      "source": [
        "pca2=PCA(n_components=2)\n",
        "x_2dim=pca2.fit_transform(x_train)"
      ],
      "execution_count": 59,
      "outputs": []
    },
    {
      "cell_type": "code",
      "metadata": {
        "id": "k0a0kbW_r5Gm",
        "outputId": "6e8d5c89-da89-41b5-f1dd-e3866024e597",
        "colab": {
          "base_uri": "https://localhost:8080/"
        }
      },
      "source": [
        "np.unique(y_train)"
      ],
      "execution_count": 60,
      "outputs": [
        {
          "output_type": "execute_result",
          "data": {
            "text/plain": [
              "array(['0', '1', '2', '3', '4', '5', '6', '7', '8', '9'], dtype=object)"
            ]
          },
          "metadata": {
            "tags": []
          },
          "execution_count": 60
        }
      ]
    },
    {
      "cell_type": "code",
      "metadata": {
        "id": "oby6e_pevdRY"
      },
      "source": [
        "cols=y_train.copy()\n",
        "for i in range(0,len(cols)):\n",
        "  cols[i]=int(cols[i])"
      ],
      "execution_count": 61,
      "outputs": []
    },
    {
      "cell_type": "code",
      "metadata": {
        "id": "Ci-ihZb2rgsE",
        "outputId": "e6a42986-8670-4045-c050-23bfa2338bb8",
        "colab": {
          "base_uri": "https://localhost:8080/",
          "height": 281
        }
      },
      "source": [
        "plt.scatter(x_2dim[:,1],x_2dim[:,0],c=cols)"
      ],
      "execution_count": 62,
      "outputs": [
        {
          "output_type": "execute_result",
          "data": {
            "text/plain": [
              "<matplotlib.collections.PathCollection at 0x7f135ecabe80>"
            ]
          },
          "metadata": {
            "tags": []
          },
          "execution_count": 62
        },
        {
          "output_type": "display_data",
          "data": {
            "image/png": "[encoded data removed]",
            "text/plain": [
              "<Figure size 432x288 with 1 Axes>"
            ]
          },
          "metadata": {
            "tags": [],
            "needs_background": "light"
          }
        }
      ]
    },
    {
      "cell_type": "markdown",
      "metadata": {
        "id": "D9utRSRHyQxU"
      },
      "source": [
        "**2 Dimensions are not sufficient to scatter the plot and classify easily so we use more dimenstions**"
      ]
    },
    {
      "cell_type": "code",
      "metadata": {
        "id": "qgmLHoMEoigX"
      },
      "source": [
        "pca=PCA(n_components=0.98)\n",
        "x_train=pca.fit_transform(x_train)"
      ],
      "execution_count": 63,
      "outputs": []
    },
    {
      "cell_type": "code",
      "metadata": {
        "id": "nfTK1Ma2089O"
      },
      "source": [
        "x_test=pca.transform(x_test)"
      ],
      "execution_count": 64,
      "outputs": []
    },
    {
      "cell_type": "code",
      "metadata": {
        "id": "AzAkKJB1qwRg",
        "outputId": "f574ca45-d3f2-4a95-ee6d-9e407db167eb",
        "colab": {
          "base_uri": "https://localhost:8080/"
        }
      },
      "source": [
        "x_train.shape"
      ],
      "execution_count": 65,
      "outputs": [
        {
          "output_type": "execute_result",
          "data": {
            "text/plain": [
              "(52500, 260)"
            ]
          },
          "metadata": {
            "tags": []
          },
          "execution_count": 65
        }
      ]
    },
    {
      "cell_type": "code",
      "metadata": {
        "id": "KqSpnksFKYOY",
        "outputId": "6f6be62f-37f8-40ba-ebaf-7e0558ef26a3",
        "colab": {
          "base_uri": "https://localhost:8080/"
        }
      },
      "source": [
        "pca.components_"
      ],
      "execution_count": 66,
      "outputs": [
        {
          "output_type": "execute_result",
          "data": {
            "text/plain": [
              "array([[ 1.10260887e-19,  9.71445147e-17,  1.11022302e-16, ...,\n",
              "         0.00000000e+00,  0.00000000e+00,  0.00000000e+00],\n",
              "       [-9.68808134e-20,  1.38777878e-17,  2.77555756e-17, ...,\n",
              "         0.00000000e+00,  0.00000000e+00,  0.00000000e+00],\n",
              "       [ 5.23349948e-19,  0.00000000e+00,  2.22044605e-16, ...,\n",
              "         0.00000000e+00,  0.00000000e+00,  0.00000000e+00],\n",
              "       ...,\n",
              "       [-1.90368298e-18,  2.79290480e-16, -2.68882139e-16, ...,\n",
              "        -0.00000000e+00, -0.00000000e+00, -0.00000000e+00],\n",
              "       [ 1.87971339e-18,  3.42607887e-17,  1.21430643e-17, ...,\n",
              "        -0.00000000e+00, -0.00000000e+00, -0.00000000e+00],\n",
              "       [ 1.70531651e-18, -6.33174069e-17, -2.90566182e-17, ...,\n",
              "        -0.00000000e+00, -0.00000000e+00, -0.00000000e+00]])"
            ]
          },
          "metadata": {
            "tags": []
          },
          "execution_count": 66
        }
      ]
    },
    {
      "cell_type": "code",
      "metadata": {
        "id": "7pUknzLFqrtt",
        "outputId": "cf1fa4f8-8ed1-46f1-c482-42dc51baef7a",
        "colab": {
          "base_uri": "https://localhost:8080/"
        }
      },
      "source": [
        "pca.components_.shape"
      ],
      "execution_count": 67,
      "outputs": [
        {
          "output_type": "execute_result",
          "data": {
            "text/plain": [
              "(260, 784)"
            ]
          },
          "metadata": {
            "tags": []
          },
          "execution_count": 67
        }
      ]
    },
    {
      "cell_type": "markdown",
      "metadata": {
        "id": "1CPRT4AyKb--"
      },
      "source": [
        "- Took 260 principal components which contain 98% share of variance with 2 percent of data loss. we traded bias with computation time and also increases interpretability"
      ]
    },
    {
      "cell_type": "code",
      "metadata": {
        "id": "HXiiJhpeoohy",
        "outputId": "bf7235d5-550a-4c96-8459-1b8e5ed53ab2",
        "colab": {
          "base_uri": "https://localhost:8080/"
        }
      },
      "source": [
        "np.sort(pca.explained_variance_ratio_)"
      ],
      "execution_count": 68,
      "outputs": [
        {
          "output_type": "execute_result",
          "data": {
            "text/plain": [
              "array([0.00017994, 0.00018175, 0.00018245, 0.00018383, 0.00018486,\n",
              "       0.00018569, 0.00018615, 0.00018706, 0.00018854, 0.00018889,\n",
              "       0.00019109, 0.00019165, 0.00019291, 0.00019397, 0.00019725,\n",
              "       0.00019799, 0.00020101, 0.00020153, 0.00020298, 0.00020539,\n",
              "       0.00020646, 0.00020877, 0.00020937, 0.00021177, 0.00021257,\n",
              "       0.00021397, 0.00021553, 0.00021668, 0.00021877, 0.00022122,\n",
              "       0.00022263, 0.00022596, 0.00022687, 0.00022815, 0.00023149,\n",
              "       0.00023216, 0.00023532, 0.00023645, 0.00023823, 0.0002394 ,\n",
              "       0.00024051, 0.00024221, 0.00024308, 0.00024693, 0.00024761,\n",
              "       0.0002508 , 0.00025198, 0.00025313, 0.00025539, 0.00025584,\n",
              "       0.00025771, 0.00026097, 0.00026406, 0.00026511, 0.00026562,\n",
              "       0.00026777, 0.00027289, 0.00027394, 0.00027805, 0.00028099,\n",
              "       0.00028259, 0.0002859 , 0.00029158, 0.00029309, 0.00029465,\n",
              "       0.00029473, 0.00030008, 0.00030107, 0.00030386, 0.00030701,\n",
              "       0.00030922, 0.00031151, 0.00031463, 0.00031642, 0.00031855,\n",
              "       0.00032191, 0.00032505, 0.00032716, 0.00032972, 0.00033391,\n",
              "       0.00033852, 0.00033969, 0.00034404, 0.00034724, 0.00035023,\n",
              "       0.00035394, 0.00035614, 0.0003623 , 0.00036241, 0.00036507,\n",
              "       0.00037345, 0.00037547, 0.00037828, 0.0003813 , 0.00038696,\n",
              "       0.00038994, 0.00039407, 0.00039778, 0.00040799, 0.00041267,\n",
              "       0.00041697, 0.00042093, 0.00042618, 0.00043637, 0.00043982,\n",
              "       0.00044604, 0.00044927, 0.00045746, 0.00046098, 0.00046266,\n",
              "       0.00046624, 0.00047035, 0.00047967, 0.00048348, 0.00049307,\n",
              "       0.00049517, 0.00049816, 0.00050231, 0.00051143, 0.00052069,\n",
              "       0.0005248 , 0.00053425, 0.00055059, 0.0005631 , 0.00056915,\n",
              "       0.00057507, 0.00058145, 0.00058455, 0.00059434, 0.00059826,\n",
              "       0.00060054, 0.00062015, 0.00062692, 0.00063351, 0.0006411 ,\n",
              "       0.0006637 , 0.00067234, 0.00067731, 0.0006859 , 0.00069177,\n",
              "       0.00070519, 0.00071216, 0.00072601, 0.00073029, 0.00074756,\n",
              "       0.00075305, 0.00075991, 0.00077777, 0.00077983, 0.0007875 ,\n",
              "       0.00081462, 0.00084037, 0.00085114, 0.00085406, 0.00089015,\n",
              "       0.00090281, 0.00091194, 0.00093708, 0.00094074, 0.00097364,\n",
              "       0.00099556, 0.00100403, 0.00102531, 0.0010326 , 0.00107269,\n",
              "       0.00108645, 0.00110389, 0.00112838, 0.00114438, 0.00115701,\n",
              "       0.00119928, 0.00121589, 0.0012551 , 0.00129075, 0.00131917,\n",
              "       0.00132924, 0.00134922, 0.00139116, 0.00139956, 0.00140714,\n",
              "       0.00141622, 0.00147426, 0.00154463, 0.00161522, 0.00162336,\n",
              "       0.00164458, 0.00173446, 0.00176504, 0.00180412, 0.00186332,\n",
              "       0.0018821 , 0.00190581, 0.00194953, 0.00202577, 0.00205609,\n",
              "       0.00211918, 0.00220583, 0.00229871, 0.00237408, 0.00240757,\n",
              "       0.00244121, 0.00252273, 0.00255382, 0.00268713, 0.00269887,\n",
              "       0.00281837, 0.00286849, 0.00296439, 0.0031045 , 0.00316714,\n",
              "       0.00319317, 0.00338737, 0.00349446, 0.00359939, 0.00374749,\n",
              "       0.0038205 , 0.00395674, 0.00416661, 0.00443429, 0.00455937,\n",
              "       0.00468654, 0.00477189, 0.00485899, 0.00507176, 0.00542816,\n",
              "       0.00566983, 0.00584434, 0.00598683, 0.00647463, 0.00657722,\n",
              "       0.00691247, 0.00737486, 0.00784278, 0.00807055, 0.00834097,\n",
              "       0.008831  , 0.00910036, 0.00958312, 0.01009566, 0.01061959,\n",
              "       0.01155358, 0.01185341, 0.01280778, 0.01316257, 0.01482124,\n",
              "       0.01581499, 0.01706406, 0.0170719 , 0.02038572, 0.02101849,\n",
              "       0.02341805, 0.02759433, 0.02889885, 0.03281812, 0.04333479,\n",
              "       0.04895143, 0.05367501, 0.06150158, 0.07203141, 0.09742207])"
            ]
          },
          "metadata": {
            "tags": []
          },
          "execution_count": 68
        }
      ]
    },
    {
      "cell_type": "markdown",
      "metadata": {
        "id": "LZmut-JptH0d"
      },
      "source": [
        "# **Model Building** \n"
      ]
    },
    {
      "cell_type": "markdown",
      "metadata": {
        "id": "6Cl9y2UB4hc6"
      },
      "source": [
        "# **Logistic Regression**\n",
        "\n",
        "\n"
      ]
    },
    {
      "cell_type": "code",
      "metadata": {
        "id": "7bH3MsPEtPbT"
      },
      "source": [
        " lr=LogisticRegression(multi_class='multinomial',solver='lbfgs',max_iter=200,C=0.1)"
      ],
      "execution_count": 69,
      "outputs": []
    },
    {
      "cell_type": "code",
      "metadata": {
        "id": "feha-D4kzzd8",
        "outputId": "eb75cf54-70c1-4d1b-b487-c7cd91c71853",
        "colab": {
          "base_uri": "https://localhost:8080/"
        }
      },
      "source": [
        "lr.fit(x_train,y_train)"
      ],
      "execution_count": 70,
      "outputs": [
        {
          "output_type": "stream",
          "text": [
            "/usr/local/lib/python3.6/dist-packages/sklearn/linear_model/_logistic.py:940: ConvergenceWarning: lbfgs failed to converge (status=1):\n",
            "STOP: TOTAL NO. of ITERATIONS REACHED LIMIT.\n",
            "\n",
            "Increase the number of iterations (max_iter) or scale the data as shown in:\n",
            "    https://scikit-learn.org/stable/modules/preprocessing.html\n",
            "Please also refer to the documentation for alternative solver options:\n",
            "    https://scikit-learn.org/stable/modules/linear_model.html#logistic-regression\n",
            "  extra_warning_msg=_LOGISTIC_SOLVER_CONVERGENCE_MSG)\n"
          ],
          "name": "stderr"
        },
        {
          "output_type": "execute_result",
          "data": {
            "text/plain": [
              "LogisticRegression(C=0.1, class_weight=None, dual=False, fit_intercept=True,\n",
              "                   intercept_scaling=1, l1_ratio=None, max_iter=200,\n",
              "                   multi_class='multinomial', n_jobs=None, penalty='l2',\n",
              "                   random_state=None, solver='lbfgs', tol=0.0001, verbose=0,\n",
              "                   warm_start=False)"
            ]
          },
          "metadata": {
            "tags": []
          },
          "execution_count": 70
        }
      ]
    },
    {
      "cell_type": "code",
      "metadata": {
        "id": "1-eqiFQez1Zu",
        "outputId": "79d5a19a-84fd-497a-e4b7-059cf9fcb3ca",
        "colab": {
          "base_uri": "https://localhost:8080/"
        }
      },
      "source": [
        "lr.score(x_train,y_train)"
      ],
      "execution_count": 71,
      "outputs": [
        {
          "output_type": "execute_result",
          "data": {
            "text/plain": [
              "0.9308761904761905"
            ]
          },
          "metadata": {
            "tags": []
          },
          "execution_count": 71
        }
      ]
    },
    {
      "cell_type": "code",
      "metadata": {
        "id": "qZp7iPTE0ocu",
        "outputId": "b4a40198-3367-485e-966a-13a2c4e4798c",
        "colab": {
          "base_uri": "https://localhost:8080/"
        }
      },
      "source": [
        "lr.score(x_test,y_test)"
      ],
      "execution_count": 72,
      "outputs": [
        {
          "output_type": "execute_result",
          "data": {
            "text/plain": [
              "0.9141142857142858"
            ]
          },
          "metadata": {
            "tags": []
          },
          "execution_count": 72
        }
      ]
    },
    {
      "cell_type": "markdown",
      "metadata": {
        "id": "nBfT2vo24ks_"
      },
      "source": [
        "# **Decision Tree Classifier**"
      ]
    },
    {
      "cell_type": "markdown",
      "metadata": {
        "id": "XElGJNEbvhma"
      },
      "source": [
        "- Instability is reduced by **PCA**"
      ]
    },
    {
      "cell_type": "code",
      "metadata": {
        "id": "BMnSFChb4z9d",
        "outputId": "4689e9f6-c26c-4687-c329-40745c12b89b",
        "colab": {
          "base_uri": "https://localhost:8080/",
          "height": 280
        }
      },
      "source": [
        "scores=[]\n",
        "dim=[]\n",
        "for dims in range(2,25):\n",
        "  dtc=DecisionTreeClassifier(max_depth=dims)\n",
        "  dtc.fit(x_train,y_train)\n",
        "  dim.append(dims)\n",
        "  score=dtc.score(x_test,y_test)\n",
        "  scores.append(score)\n",
        "plt.plot(dim,scores)"
      ],
      "execution_count": 73,
      "outputs": [
        {
          "output_type": "execute_result",
          "data": {
            "text/plain": [
              "[<matplotlib.lines.Line2D at 0x7f135ec79be0>]"
            ]
          },
          "metadata": {
            "tags": []
          },
          "execution_count": 73
        },
        {
          "output_type": "display_data",
          "data": {
            "image/png": "[encoded data removed]",
            "text/plain": [
              "<Figure size 432x288 with 1 Axes>"
            ]
          },
          "metadata": {
            "tags": [],
            "needs_background": "light"
          }
        }
      ]
    },
    {
      "cell_type": "markdown",
      "metadata": {
        "id": "Pbt_7DpPJeNE"
      },
      "source": [
        "- if depth is none it will overfit the data which tries to classify each data point correctly using different types of threshold values but it is not guaranted about performance on test data so early stopping is used with depth as a parameter and calculated the graph above and found that the model performs well for depth 16"
      ]
    },
    {
      "cell_type": "code",
      "metadata": {
        "id": "AUeVpSrPTNAJ",
        "outputId": "a2b6c7ff-c1f5-4103-a2bd-596f34ff67ad",
        "colab": {
          "base_uri": "https://localhost:8080/"
        }
      },
      "source": [
        "np.argmax(scores)+2"
      ],
      "execution_count": 74,
      "outputs": [
        {
          "output_type": "execute_result",
          "data": {
            "text/plain": [
              "15"
            ]
          },
          "metadata": {
            "tags": []
          },
          "execution_count": 74
        }
      ]
    },
    {
      "cell_type": "code",
      "metadata": {
        "id": "KIkxpEMldP_M",
        "outputId": "24cec860-e160-466b-ee83-c4fb2ce93d80",
        "colab": {
          "base_uri": "https://localhost:8080/"
        }
      },
      "source": [
        "scores[14]"
      ],
      "execution_count": 75,
      "outputs": [
        {
          "output_type": "execute_result",
          "data": {
            "text/plain": [
              "0.8339428571428571"
            ]
          },
          "metadata": {
            "tags": []
          },
          "execution_count": 75
        }
      ]
    },
    {
      "cell_type": "markdown",
      "metadata": {
        "id": "nVcvfvZbYaj7"
      },
      "source": [
        "- If we take less dimenstions it will underfit and if we take more dimenstions it will overfit best to take is 16 which gives 0.84 as test error which is better when compared which is early stopping."
      ]
    },
    {
      "cell_type": "code",
      "metadata": {
        "id": "6trBPfGsYIFw",
        "outputId": "ec9a61ef-47af-4725-ba67-21293f03dbcb",
        "colab": {
          "base_uri": "https://localhost:8080/"
        }
      },
      "source": [
        "scores"
      ],
      "execution_count": 76,
      "outputs": [
        {
          "output_type": "execute_result",
          "data": {
            "text/plain": [
              "[0.2876,\n",
              " 0.40794285714285716,\n",
              " 0.5097714285714285,\n",
              " 0.6398285714285714,\n",
              " 0.6776,\n",
              " 0.7079428571428571,\n",
              " 0.7382285714285715,\n",
              " 0.7580571428571429,\n",
              " 0.7854285714285715,\n",
              " 0.8058857142857143,\n",
              " 0.8218857142857143,\n",
              " 0.8304,\n",
              " 0.8321142857142857,\n",
              " 0.8341714285714286,\n",
              " 0.8339428571428571,\n",
              " 0.8336,\n",
              " 0.8318857142857143,\n",
              " 0.8301714285714286,\n",
              " 0.8301714285714286,\n",
              " 0.8294857142857143,\n",
              " 0.8297142857142857,\n",
              " 0.8282285714285714,\n",
              " 0.8270857142857143]"
            ]
          },
          "metadata": {
            "tags": []
          },
          "execution_count": 76
        }
      ]
    },
    {
      "cell_type": "markdown",
      "metadata": {
        "id": "nl1rx833Yxb9"
      },
      "source": [
        "# **Random Forest Classifier** "
      ]
    },
    {
      "cell_type": "markdown",
      "metadata": {
        "id": "WKNxwMGTY3VH"
      },
      "source": [
        "Best to choose bagging or Pasting because the dimenstions are too high and to reduce the computation time with good performance.\n",
        "\n",
        "\n",
        "- Bagging is prefered because of its training with different sets for each Decision Tree\n",
        "\n"
      ]
    },
    {
      "cell_type": "code",
      "metadata": {
        "id": "LcA8p67oY0pg",
        "outputId": "9eca02ff-a9ad-46c1-e312-234e8a319014",
        "colab": {
          "base_uri": "https://localhost:8080/"
        }
      },
      "source": [
        "x_train.shape"
      ],
      "execution_count": 77,
      "outputs": [
        {
          "output_type": "execute_result",
          "data": {
            "text/plain": [
              "(52500, 260)"
            ]
          },
          "metadata": {
            "tags": []
          },
          "execution_count": 77
        }
      ]
    },
    {
      "cell_type": "code",
      "metadata": {
        "id": "hruFb5ZhZOb7"
      },
      "source": [
        "bc=RandomForestClassifier(max_depth=16,n_estimators=500,max_samples=300,bootstrap=True,n_jobs=-1)"
      ],
      "execution_count": 78,
      "outputs": []
    },
    {
      "cell_type": "code",
      "metadata": {
        "id": "CkJkRn6FZa3z",
        "outputId": "0d4ec53e-1bcd-402b-9c17-390713da997c",
        "colab": {
          "base_uri": "https://localhost:8080/"
        }
      },
      "source": [
        "bc.fit(x_train,y_train)"
      ],
      "execution_count": 79,
      "outputs": [
        {
          "output_type": "execute_result",
          "data": {
            "text/plain": [
              "RandomForestClassifier(bootstrap=True, ccp_alpha=0.0, class_weight=None,\n",
              "                       criterion='gini', max_depth=16, max_features='auto',\n",
              "                       max_leaf_nodes=None, max_samples=300,\n",
              "                       min_impurity_decrease=0.0, min_impurity_split=None,\n",
              "                       min_samples_leaf=1, min_samples_split=2,\n",
              "                       min_weight_fraction_leaf=0.0, n_estimators=500,\n",
              "                       n_jobs=-1, oob_score=False, random_state=None, verbose=0,\n",
              "                       warm_start=False)"
            ]
          },
          "metadata": {
            "tags": []
          },
          "execution_count": 79
        }
      ]
    },
    {
      "cell_type": "code",
      "metadata": {
        "id": "5bE3KDVyZck-",
        "outputId": "ca6523a2-fe45-4ee8-e1c0-a26327308f5c",
        "colab": {
          "base_uri": "https://localhost:8080/"
        }
      },
      "source": [
        "bc.score(x_train,y_train)"
      ],
      "execution_count": 80,
      "outputs": [
        {
          "output_type": "execute_result",
          "data": {
            "text/plain": [
              "0.8545714285714285"
            ]
          },
          "metadata": {
            "tags": []
          },
          "execution_count": 80
        }
      ]
    },
    {
      "cell_type": "code",
      "metadata": {
        "id": "FA9fu1MjZfhv",
        "outputId": "df0aa9ac-2909-4714-ef21-e0e23062f6c1",
        "colab": {
          "base_uri": "https://localhost:8080/"
        }
      },
      "source": [
        "bc.score(x_test,y_test)"
      ],
      "execution_count": 81,
      "outputs": [
        {
          "output_type": "execute_result",
          "data": {
            "text/plain": [
              "0.8457714285714286"
            ]
          },
          "metadata": {
            "tags": []
          },
          "execution_count": 81
        }
      ]
    },
    {
      "cell_type": "code",
      "metadata": {
        "id": "IUQzu28G15En",
        "outputId": "00a4bd06-d6e6-4992-94e5-10e34a26d6ea",
        "colab": {
          "base_uri": "https://localhost:8080/"
        }
      },
      "source": [
        "bc.feature_importances_"
      ],
      "execution_count": 82,
      "outputs": [
        {
          "output_type": "execute_result",
          "data": {
            "text/plain": [
              "array([0.05027497, 0.04494132, 0.01526699, 0.0288381 , 0.02832178,\n",
              "       0.02210029, 0.01613768, 0.01843887, 0.0061558 , 0.00869334,\n",
              "       0.00515515, 0.00818117, 0.00775632, 0.01150162, 0.01014992,\n",
              "       0.00809529, 0.00732239, 0.00466099, 0.00603095, 0.00691386,\n",
              "       0.00506846, 0.00501492, 0.00623932, 0.00435552, 0.00359296,\n",
              "       0.00657113, 0.00574113, 0.00431853, 0.00526026, 0.00283569,\n",
              "       0.00359685, 0.00416429, 0.00395986, 0.0054243 , 0.00480531,\n",
              "       0.00323956, 0.00310864, 0.00312257, 0.00348707, 0.00392562,\n",
              "       0.00382139, 0.00370403, 0.00353489, 0.00328861, 0.00337944,\n",
              "       0.00280175, 0.00316136, 0.00300888, 0.00314832, 0.00331816,\n",
              "       0.00390697, 0.002862  , 0.00306371, 0.00336678, 0.00277861,\n",
              "       0.00277872, 0.00267062, 0.0033991 , 0.0031937 , 0.00305788,\n",
              "       0.00300136, 0.00294451, 0.00313502, 0.00279426, 0.00254888,\n",
              "       0.0035881 , 0.00307908, 0.0031063 , 0.00325532, 0.00257988,\n",
              "       0.00229283, 0.0027715 , 0.0031564 , 0.00331882, 0.00269696,\n",
              "       0.00298368, 0.00278068, 0.00272409, 0.00303351, 0.00308044,\n",
              "       0.0029019 , 0.00274293, 0.00296102, 0.00274058, 0.00277278,\n",
              "       0.00254679, 0.00273661, 0.00277222, 0.00300004, 0.00268633,\n",
              "       0.00311318, 0.00280238, 0.00267796, 0.0027946 , 0.00244834,\n",
              "       0.00241891, 0.00246805, 0.00251497, 0.00276922, 0.00295365,\n",
              "       0.00280215, 0.00305616, 0.00320274, 0.00300064, 0.00301372,\n",
              "       0.00299695, 0.00336032, 0.00260817, 0.00283842, 0.00273522,\n",
              "       0.00281584, 0.00282496, 0.0028454 , 0.00295893, 0.00261087,\n",
              "       0.00273143, 0.00289216, 0.00227351, 0.00264372, 0.00272802,\n",
              "       0.00244596, 0.00282029, 0.00265253, 0.00275034, 0.00257499,\n",
              "       0.00309874, 0.00241627, 0.00262817, 0.00237323, 0.00245932,\n",
              "       0.00284212, 0.00275346, 0.00233306, 0.00261247, 0.00257989,\n",
              "       0.00261175, 0.00252173, 0.00273614, 0.00267837, 0.00287839,\n",
              "       0.00272806, 0.00272214, 0.0024122 , 0.00272248, 0.00256544,\n",
              "       0.00215069, 0.00246536, 0.00274145, 0.00231918, 0.0027763 ,\n",
              "       0.0025467 , 0.00287779, 0.00277241, 0.00242159, 0.00278173,\n",
              "       0.00317684, 0.00244165, 0.00233803, 0.00233851, 0.0029204 ,\n",
              "       0.00301351, 0.00257641, 0.00237912, 0.00251756, 0.00279604,\n",
              "       0.00275915, 0.00260678, 0.00260344, 0.00278438, 0.00253626,\n",
              "       0.00262418, 0.00280203, 0.00202488, 0.00268254, 0.00232693,\n",
              "       0.00261639, 0.00294644, 0.0027072 , 0.00253894, 0.00312706,\n",
              "       0.0029627 , 0.00261928, 0.00274743, 0.00291948, 0.00267945,\n",
              "       0.00247312, 0.0024095 , 0.00233423, 0.00258913, 0.00254637,\n",
              "       0.00254788, 0.00249596, 0.0027711 , 0.00227548, 0.0027615 ,\n",
              "       0.0027929 , 0.0027466 , 0.00257727, 0.00259148, 0.00260095,\n",
              "       0.0024374 , 0.00246398, 0.00243047, 0.00254506, 0.00246376,\n",
              "       0.00268551, 0.00251243, 0.00246562, 0.00215723, 0.0022172 ,\n",
              "       0.00281859, 0.00269032, 0.00265843, 0.00265659, 0.00257984,\n",
              "       0.00229434, 0.00265799, 0.00253617, 0.00234954, 0.00246252,\n",
              "       0.00220145, 0.00243293, 0.00259318, 0.00239813, 0.002667  ,\n",
              "       0.00272035, 0.00268913, 0.00248823, 0.00234911, 0.00255687,\n",
              "       0.00256023, 0.00279489, 0.00243146, 0.00236453, 0.00242325,\n",
              "       0.00261488, 0.00264589, 0.0021115 , 0.00270278, 0.00259951,\n",
              "       0.00256591, 0.00248681, 0.00238226, 0.00245872, 0.00255307,\n",
              "       0.00254623, 0.00241679, 0.00245854, 0.00286911, 0.0024688 ,\n",
              "       0.0025618 , 0.00269365, 0.00305581, 0.00239467, 0.00276611,\n",
              "       0.00226213, 0.00219968, 0.00270226, 0.00287023, 0.00281478])"
            ]
          },
          "metadata": {
            "tags": []
          },
          "execution_count": 82
        }
      ]
    },
    {
      "cell_type": "markdown",
      "metadata": {
        "id": "pNsIqpKoIB7C"
      },
      "source": [
        "**from above we can say that Random Forest Classifier is best for classification which trains model in a discrete way which can easily rectify the problems with normal decision tree**"
      ]
    },
    {
      "cell_type": "markdown",
      "metadata": {
        "id": "tdGBqbWf6Vq-"
      },
      "source": [
        "# **KNN Classifier**"
      ]
    },
    {
      "cell_type": "code",
      "metadata": {
        "id": "ItK6gSnv6a_D"
      },
      "source": [
        "from sklearn.neighbors import KNeighborsClassifier\n",
        "from sklearn.metrics import classification_report"
      ],
      "execution_count": 83,
      "outputs": []
    },
    {
      "cell_type": "code",
      "metadata": {
        "id": "sT3B-UIY7JNz"
      },
      "source": [
        "knn=KNeighborsClassifier(n_neighbors=102,algorithm='brute')"
      ],
      "execution_count": 84,
      "outputs": []
    },
    {
      "cell_type": "code",
      "metadata": {
        "id": "jUxN3a4R7TZB",
        "outputId": "2ca4753a-57c9-4724-c1f9-806cb33410d7",
        "colab": {
          "base_uri": "https://localhost:8080/"
        }
      },
      "source": [
        "knn.fit(x_train,y_train)"
      ],
      "execution_count": 85,
      "outputs": [
        {
          "output_type": "execute_result",
          "data": {
            "text/plain": [
              "KNeighborsClassifier(algorithm='brute', leaf_size=30, metric='minkowski',\n",
              "                     metric_params=None, n_jobs=None, n_neighbors=102, p=2,\n",
              "                     weights='uniform')"
            ]
          },
          "metadata": {
            "tags": []
          },
          "execution_count": 85
        }
      ]
    },
    {
      "cell_type": "code",
      "metadata": {
        "id": "OU-Zj-wq7mN9"
      },
      "source": [
        "predict_knn=knn.predict(x_test)"
      ],
      "execution_count": 86,
      "outputs": []
    },
    {
      "cell_type": "code",
      "metadata": {
        "id": "vtiBiFCV7fHi",
        "outputId": "3f84b791-4021-427a-a852-0e73b23b2afa",
        "colab": {
          "base_uri": "https://localhost:8080/"
        }
      },
      "source": [
        "print(classification_report(y_test,predict_knn))"
      ],
      "execution_count": 87,
      "outputs": [
        {
          "output_type": "stream",
          "text": [
            "              precision    recall  f1-score   support\n",
            "\n",
            "           0       0.96      0.98      0.97      1710\n",
            "           1       0.87      0.99      0.93      1961\n",
            "           2       0.99      0.90      0.94      1814\n",
            "           3       0.94      0.94      0.94      1791\n",
            "           4       0.97      0.92      0.94      1734\n",
            "           5       0.93      0.93      0.93      1501\n",
            "           6       0.96      0.98      0.97      1729\n",
            "           7       0.93      0.94      0.93      1806\n",
            "           8       0.98      0.84      0.91      1730\n",
            "           9       0.90      0.93      0.91      1724\n",
            "\n",
            "    accuracy                           0.94     17500\n",
            "   macro avg       0.94      0.94      0.94     17500\n",
            "weighted avg       0.94      0.94      0.94     17500\n",
            "\n"
          ],
          "name": "stdout"
        }
      ]
    },
    {
      "cell_type": "markdown",
      "metadata": {
        "id": "8jQ1VfrUeiqs"
      },
      "source": [
        "# **Voting Classifier**\n",
        "\n",
        "\n",
        "1.   Voting classifier judges the answer by by judging all the classifier and takes the higest vote. here soft voting is done which takes the probability as the criteria of each classifier"
      ]
    },
    {
      "cell_type": "code",
      "metadata": {
        "id": "5zHUHx4hgR9i"
      },
      "source": [
        "dt=DecisionTreeClassifier(max_depth=16)"
      ],
      "execution_count": 89,
      "outputs": []
    },
    {
      "cell_type": "code",
      "metadata": {
        "id": "quf_eI-8fMug"
      },
      "source": [
        "vc=VotingClassifier(estimators=[('lr',lr),('bc',bc),('dt',dt),('kn',knn)],voting='soft')"
      ],
      "execution_count": 90,
      "outputs": []
    },
    {
      "cell_type": "code",
      "metadata": {
        "id": "VcxhAjhRgixT",
        "outputId": "2f6ceb86-0ab8-410f-888c-5f67f73ed576",
        "colab": {
          "base_uri": "https://localhost:8080/"
        }
      },
      "source": [
        "vc.estimators"
      ],
      "execution_count": 91,
      "outputs": [
        {
          "output_type": "execute_result",
          "data": {
            "text/plain": [
              "[('lr',\n",
              "  LogisticRegression(C=0.1, class_weight=None, dual=False, fit_intercept=True,\n",
              "                     intercept_scaling=1, l1_ratio=None, max_iter=200,\n",
              "                     multi_class='multinomial', n_jobs=None, penalty='l2',\n",
              "                     random_state=None, solver='lbfgs', tol=0.0001, verbose=0,\n",
              "                     warm_start=False)),\n",
              " ('bc',\n",
              "  RandomForestClassifier(bootstrap=True, ccp_alpha=0.0, class_weight=None,\n",
              "                         criterion='gini', max_depth=16, max_features='auto',\n",
              "                         max_leaf_nodes=None, max_samples=300,\n",
              "                         min_impurity_decrease=0.0, min_impurity_split=None,\n",
              "                         min_samples_leaf=1, min_samples_split=2,\n",
              "                         min_weight_fraction_leaf=0.0, n_estimators=500,\n",
              "                         n_jobs=-1, oob_score=False, random_state=None, verbose=0,\n",
              "                         warm_start=False)),\n",
              " ('dt',\n",
              "  DecisionTreeClassifier(ccp_alpha=0.0, class_weight=None, criterion='gini',\n",
              "                         max_depth=16, max_features=None, max_leaf_nodes=None,\n",
              "                         min_impurity_decrease=0.0, min_impurity_split=None,\n",
              "                         min_samples_leaf=1, min_samples_split=2,\n",
              "                         min_weight_fraction_leaf=0.0, presort='deprecated',\n",
              "                         random_state=None, splitter='best')),\n",
              " ('kn',\n",
              "  KNeighborsClassifier(algorithm='brute', leaf_size=30, metric='minkowski',\n",
              "                       metric_params=None, n_jobs=None, n_neighbors=102, p=2,\n",
              "                       weights='uniform'))]"
            ]
          },
          "metadata": {
            "tags": []
          },
          "execution_count": 91
        }
      ]
    },
    {
      "cell_type": "code",
      "metadata": {
        "id": "RFb2ZcIWgi-_",
        "outputId": "0e499890-654c-4c50-f489-55d853a032e8",
        "colab": {
          "base_uri": "https://localhost:8080/"
        }
      },
      "source": [
        "vc.fit(x_train,y_train)"
      ],
      "execution_count": 92,
      "outputs": [
        {
          "output_type": "stream",
          "text": [
            "/usr/local/lib/python3.6/dist-packages/sklearn/linear_model/_logistic.py:940: ConvergenceWarning: lbfgs failed to converge (status=1):\n",
            "STOP: TOTAL NO. of ITERATIONS REACHED LIMIT.\n",
            "\n",
            "Increase the number of iterations (max_iter) or scale the data as shown in:\n",
            "    https://scikit-learn.org/stable/modules/preprocessing.html\n",
            "Please also refer to the documentation for alternative solver options:\n",
            "    https://scikit-learn.org/stable/modules/linear_model.html#logistic-regression\n",
            "  extra_warning_msg=_LOGISTIC_SOLVER_CONVERGENCE_MSG)\n"
          ],
          "name": "stderr"
        },
        {
          "output_type": "execute_result",
          "data": {
            "text/plain": [
              "VotingClassifier(estimators=[('lr',\n",
              "                              LogisticRegression(C=0.1, class_weight=None,\n",
              "                                                 dual=False, fit_intercept=True,\n",
              "                                                 intercept_scaling=1,\n",
              "                                                 l1_ratio=None, max_iter=200,\n",
              "                                                 multi_class='multinomial',\n",
              "                                                 n_jobs=None, penalty='l2',\n",
              "                                                 random_state=None,\n",
              "                                                 solver='lbfgs', tol=0.0001,\n",
              "                                                 verbose=0, warm_start=False)),\n",
              "                             ('bc',\n",
              "                              RandomForestClassifier(bootstrap=True,\n",
              "                                                     ccp_alpha=0.0,\n",
              "                                                     class_weight=...\n",
              "                                                     min_impurity_split=None,\n",
              "                                                     min_samples_leaf=1,\n",
              "                                                     min_samples_split=2,\n",
              "                                                     min_weight_fraction_leaf=0.0,\n",
              "                                                     presort='deprecated',\n",
              "                                                     random_state=None,\n",
              "                                                     splitter='best')),\n",
              "                             ('kn',\n",
              "                              KNeighborsClassifier(algorithm='brute',\n",
              "                                                   leaf_size=30,\n",
              "                                                   metric='minkowski',\n",
              "                                                   metric_params=None,\n",
              "                                                   n_jobs=None, n_neighbors=102,\n",
              "                                                   p=2, weights='uniform'))],\n",
              "                 flatten_transform=True, n_jobs=None, voting='soft',\n",
              "                 weights=None)"
            ]
          },
          "metadata": {
            "tags": []
          },
          "execution_count": 92
        }
      ]
    },
    {
      "cell_type": "code",
      "metadata": {
        "id": "pwcezQ1mhfz3",
        "outputId": "b64461d9-f32f-4b6a-972e-632a4ca38d3b",
        "colab": {
          "base_uri": "https://localhost:8080/"
        }
      },
      "source": [
        "vc.score(x_train,y_train)"
      ],
      "execution_count": 93,
      "outputs": [
        {
          "output_type": "execute_result",
          "data": {
            "text/plain": [
              "0.9752380952380952"
            ]
          },
          "metadata": {
            "tags": []
          },
          "execution_count": 93
        }
      ]
    },
    {
      "cell_type": "code",
      "metadata": {
        "id": "Sb9hOhKCgoo9",
        "outputId": "5a72748c-703a-46fd-8c28-a232e05cba00",
        "colab": {
          "base_uri": "https://localhost:8080/"
        }
      },
      "source": [
        "vc.score(x_test,y_test)"
      ],
      "execution_count": 95,
      "outputs": [
        {
          "output_type": "execute_result",
          "data": {
            "text/plain": [
              "0.9335428571428571"
            ]
          },
          "metadata": {
            "tags": []
          },
          "execution_count": 95
        }
      ]
    },
    {
      "cell_type": "code",
      "metadata": {
        "id": "6YQSHUI_zR2t"
      },
      "source": [
        "total_data=np.concatenate((x_train,x_test),axis=0)"
      ],
      "execution_count": 96,
      "outputs": []
    },
    {
      "cell_type": "code",
      "metadata": {
        "id": "L0g6fUOaz2hU"
      },
      "source": [
        "total_target=np.concatenate((y_train,y_test),axis=0)"
      ],
      "execution_count": 97,
      "outputs": []
    },
    {
      "cell_type": "code",
      "metadata": {
        "id": "bfvSNgD80PvL",
        "outputId": "e2963125-8881-454a-cc70-45a59d3e2a68",
        "colab": {
          "base_uri": "https://localhost:8080/"
        }
      },
      "source": [
        "vc.score(total_data,total_target)"
      ],
      "execution_count": 98,
      "outputs": [
        {
          "output_type": "execute_result",
          "data": {
            "text/plain": [
              "0.9648142857142857"
            ]
          },
          "metadata": {
            "tags": []
          },
          "execution_count": 98
        }
      ]
    },
    {
      "cell_type": "markdown",
      "metadata": {
        "id": "XRnQbDXiG6yF"
      },
      "source": [
        "# **Conclusion**"
      ]
    },
    {
      "cell_type": "markdown",
      "metadata": {
        "id": "eZcpl1sfGmjW"
      },
      "source": [
        "**The higest accuray we got is by using Voting classifier with soft voting by using Random Forest classifier , Logistic Regression, Decision Tree Classifier which is 95% for the dataset taken. Adding KNN Classifier increased it to 96%**"
      ]
    }
  ]
}